{
 "cells": [
  {
   "cell_type": "markdown",
   "id": "2571e776-4b60-4f83-a569-3bbad8ff1369",
   "metadata": {},
   "source": [
    "# **Python Project for Measuring Execution Time o a Program**\n",
    "\n",
    "---\n",
    "\n",
    "### [By Srushti Shimpi](https://github.com/srushtishimpi)\n",
    "\n",
    "---\n",
    "\n",
    "## **Introduction**\n",
    "\n",
    "Understanding how long your Python program takes to run is crucial when evaluating the efficiency of the algorithm you've implemented. This guide will walk you through how to measure the execution time of a Python program—from the start to the moment it delivers the final output.\n",
    "\n",
    "---\n",
    "\n",
    "## **Why Measure Execution Time?**\n",
    "\n",
    "When developing large-scale applications, you often have multiple solutions for the same problem. The most efficient one is typically the one that consistently completes execution the fastest. Measuring execution time helps identify which approach is optimal in terms of performance.\n",
    "\n",
    "---\n",
    "\n",
    "## **Steps to Measure Execution Time in Python**\n",
    "\n",
    "To determine the runtime of a Python program, follow these steps:\n",
    "\n",
    "1. Capture the **start time** of the program in a variable.  \n",
    "2. **Write and execute** the main logic of your Python program.  \n",
    "3. Capture the **end time** of the program in another variable.  \n",
    "4. **Subtract** the start time from the end time to get the total execution duration.  \n",
    "5. The result gives you the program’s execution time in **seconds**.\n",
    "\n",
    "---\n",
    "\n",
    "## **Example: Measuring Execution Time**\n",
    "\n",
    "Let's apply this process to a simple program that generates acronyms:"
   ]
  },
  {
   "cell_type": "code",
   "execution_count": 4,
   "id": "f81a4b12-ddf0-4f2a-aae1-e03cd5c808d4",
   "metadata": {},
   "outputs": [
    {
     "name": "stdout",
     "output_type": "stream",
     "text": [
      "LOL\n",
      "Execution Time: 0.0010030269622802734 seconds\n"
     ]
    }
   ],
   "source": [
    "# Importing the time module to work with time-related functions\n",
    "import time\n",
    "\n",
    "# Step 1: Record the start time just before the program logic begins\n",
    "start_time = time.time()\n",
    "\n",
    "# Step 2: Define a function that creates an acronym from a phrase\n",
    "def create_acronym(phrase):\n",
    "    # This function takes the first letter of each word, capitalizes it, and joins them together\n",
    "    return ''.join(word[0].upper() for word in phrase.split())\n",
    "\n",
    "# Step 3: Call the function with a sample input and print the result\n",
    "print(create_acronym(\"Laugh out loud\"))\n",
    "\n",
    "# Step 4: Record the end time just after the program logic ends\n",
    "end_time = time.time()\n",
    "\n",
    "# Step 5: Calculate the total execution time by subtracting start time from end time\n",
    "execution_time = end_time - start_time\n",
    "\n",
    "# Step 6: Print the execution time in seconds\n",
    "print(f\"Execution Time: {execution_time} seconds\")"
   ]
  },
  {
   "cell_type": "markdown",
   "id": "76466080-35c6-4a81-af77-c4b9943f0b99",
   "metadata": {},
   "source": [
    "---\n",
    "\n",
    "## Measuring Execution Time in Python\n",
    "\n",
    "- `start_time = time.time()`  \n",
    "  ➝ Marks the exact time the program starts.\n",
    "\n",
    "- `create_acronym()`  \n",
    "  ➝ Logic that processes the input string and returns an acronym.\n",
    "\n",
    "- `end_time = time.time()`  \n",
    "  ➝ Marks the time right after the logic finishes executing.\n",
    "\n",
    "- `execution_time = end_time - start_time`  \n",
    "  ➝ Calculates how long the logic took to run.\n",
    "\n",
    "- `print(f\"...\")`  \n",
    "  ➝ Displays the execution time in seconds.\n",
    "---\n",
    "\n",
    "As shown in the output, the program prints the result first and then displays the time it took to run. This method can be applied to any Python script to measure how long it takes to execute.\n",
    "\n",
    "---\n",
    "\n",
    "## **Summary**\n",
    "To summarize, calculating execution time in Python involves measuring the duration from the program’s start to its end. This is especially useful when comparing different algorithms or implementations. We hope this guide helps you effectively analyze the performance of your Python programs."
   ]
  }
 ],
 "metadata": {
  "kernelspec": {
   "display_name": "Python 3 (ipykernel)",
   "language": "python",
   "name": "python3"
  },
  "language_info": {
   "codemirror_mode": {
    "name": "ipython",
    "version": 3
   },
   "file_extension": ".py",
   "mimetype": "text/x-python",
   "name": "python",
   "nbconvert_exporter": "python",
   "pygments_lexer": "ipython3",
   "version": "3.12.9"
  }
 },
 "nbformat": 4,
 "nbformat_minor": 5
}
